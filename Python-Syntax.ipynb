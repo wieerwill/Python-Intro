{
 "cells": [
  {
   "cell_type": "markdown",
   "metadata": {},
   "source": [
    "# 1. Phyton Grundlagen"
   ]
  },
  {
   "cell_type": "markdown",
   "metadata": {},
   "source": [
    "### Zahlen"
   ]
  },
  {
   "cell_type": "code",
   "execution_count": 1,
   "metadata": {},
   "outputs": [
    {
     "name": "stdout",
     "output_type": "stream",
     "text": [
      "1\n"
     ]
    }
   ],
   "source": [
    "# mit print() wird die Konsolenausgabe realisiert\n",
    "print(1) # Zahlen können ohne Markup eingefügt werden"
   ]
  },
  {
   "cell_type": "markdown",
   "metadata": {},
   "source": [
    "### Grundrechenarten"
   ]
  },
  {
   "cell_type": "code",
   "execution_count": 2,
   "metadata": {},
   "outputs": [
    {
     "name": "stdout",
     "output_type": "stream",
     "text": [
      "9\n",
      "1\n",
      "20\n",
      "1.25\n",
      "27\n"
     ]
    }
   ],
   "source": [
    "print(5 + 4) # Addition\n",
    "print(5 - 4) # Subtraktion\n",
    "print(5 * 4) # Multiplikation\n",
    "print(5 / 4) # Division\n",
    "print((5 + 4) *3) #Punkt vor Strich"
   ]
  },
  {
   "cell_type": "markdown",
   "metadata": {},
   "source": [
    "### Variablen"
   ]
  },
  {
   "cell_type": "code",
   "execution_count": 3,
   "metadata": {},
   "outputs": [
    {
     "name": "stdout",
     "output_type": "stream",
     "text": [
      "5\n",
      "11\n",
      "16\n"
     ]
    }
   ],
   "source": [
    "a = 5         # Einfache Variable\n",
    "print(a)\n",
    "b = 5 + 6     # Zahlen können in Variablen verrechnet werden\n",
    "print(b)\n",
    "print(a + b)  # Variablen können verrechnet werden"
   ]
  },
  {
   "cell_type": "markdown",
   "metadata": {},
   "source": [
    "### Strings (Zeichenketten)\n",
    "Zeichen die zwischen Anführungszeichen stehen"
   ]
  },
  {
   "cell_type": "code",
   "execution_count": 4,
   "metadata": {},
   "outputs": [
    {
     "name": "stdout",
     "output_type": "stream",
     "text": [
      "Hallo Welt\n",
      "Alex\n"
     ]
    }
   ],
   "source": [
    "print(\"Hallo Welt\") #Einfacher String in Anführungszeichen\n",
    "name =\"Alex\"  # Strings können in Variablen gespeichert werden\n",
    "print(name)"
   ]
  },
  {
   "cell_type": "markdown",
   "metadata": {},
   "source": [
    "### Strings zusammenführen\n",
    "Mehrere Strings können durch **+** zusammengefügt werden"
   ]
  },
  {
   "cell_type": "code",
   "execution_count": 5,
   "metadata": {
    "scrolled": true
   },
   "outputs": [
    {
     "name": "stdout",
     "output_type": "stream",
     "text": [
      "Mein Name istAlex. Wie ist dein Name?\n"
     ]
    }
   ],
   "source": [
    "print(\"Mein Name ist\" + name + \". Wie ist dein Name?\")"
   ]
  },
  {
   "cell_type": "markdown",
   "metadata": {},
   "source": [
    "### Boolean\n",
    "Für Wahr oder Falsch werden die Booleans **True** und **False** ausgegeben"
   ]
  },
  {
   "cell_type": "code",
   "execution_count": 19,
   "metadata": {},
   "outputs": [
    {
     "name": "stdout",
     "output_type": "stream",
     "text": [
      "False\n"
     ]
    }
   ],
   "source": [
    "b = False\n",
    "print(b)"
   ]
  },
  {
   "cell_type": "markdown",
   "metadata": {},
   "source": [
    "### Kommentare\n",
    "Kommentare im Code erleichtern die Lesbarkeit und werden nicht ausgeführt. Dafür nutzt man **#**"
   ]
  },
  {
   "cell_type": "code",
   "execution_count": null,
   "metadata": {},
   "outputs": [],
   "source": [
    "# Dies ist ein Kommentar\n",
    "# print(\"Hallo Welt\")  Diese Zeile wird nicht ausgeführt\n",
    "print(\"Hello Welt\")  # Diese Zeile wird ausgeführt"
   ]
  },
  {
   "cell_type": "markdown",
   "metadata": {},
   "source": [
    "# 2. Listen\n",
    "Listen können mehrere Elemente enthalten\n",
    "**Listenname = [\"Element1\", Element2\", ... ]**"
   ]
  },
  {
   "cell_type": "code",
   "execution_count": null,
   "metadata": {},
   "outputs": [],
   "source": [
    "students = [\"Alex\", \"Bob\", \"Cedric\", \"Erika\"]\n",
    "print(students)"
   ]
  },
  {
   "cell_type": "markdown",
   "metadata": {},
   "source": [
    "### Element aus Liste wählen\n",
    "Elemente einer Liste sind aufsteigend von 0 an nummeriert. Per Index kann ein einzelnes Element über seine Listenposition angewählt werden: **Listenname[Position]**"
   ]
  },
  {
   "cell_type": "code",
   "execution_count": null,
   "metadata": {},
   "outputs": [],
   "source": [
    "print(students[0])"
   ]
  },
  {
   "cell_type": "markdown",
   "metadata": {},
   "source": [
    "### Element einer Liste anhängen\n",
    "über **append()** kann ein Element an das Ende einer Liste hinzugefügt werden"
   ]
  },
  {
   "cell_type": "code",
   "execution_count": null,
   "metadata": {},
   "outputs": [],
   "source": [
    "students.append(\"Franz\")\n",
    "print(students)"
   ]
  },
  {
   "cell_type": "markdown",
   "metadata": {},
   "source": [
    "### Element aus Liste entfernen\n",
    "über **.pop()** kann das letzte Element aus der Liste entfernt werden"
   ]
  },
  {
   "cell_type": "code",
   "execution_count": null,
   "metadata": {},
   "outputs": [],
   "source": [
    "x = students.pop() #aus Students wird das letzte Element entfernt\n",
    "print(students) #restliche Liste\n",
    "print(x)  #entferntes Element"
   ]
  },
  {
   "cell_type": "markdown",
   "metadata": {},
   "source": [
    "### Listenlänge abfragen\n",
    "mit dem **len()**-Befehl kann die Länge einer Liste abgefragt werden"
   ]
  },
  {
   "cell_type": "code",
   "execution_count": null,
   "metadata": {},
   "outputs": [],
   "source": [
    "print(len(students))"
   ]
  },
  {
   "cell_type": "markdown",
   "metadata": {},
   "source": [
    "# 3. Daten umwandeln\n"
   ]
  },
  {
   "cell_type": "markdown",
   "metadata": {},
   "source": [
    "### Einen String in eine Ganzzahl umwandeln\n",
    "**int()**-Befehl auf einen String: **int(string)**"
   ]
  },
  {
   "cell_type": "code",
   "execution_count": 6,
   "metadata": {},
   "outputs": [
    {
     "name": "stdout",
     "output_type": "stream",
     "text": [
      "5\n"
     ]
    }
   ],
   "source": [
    "a = int(\"5\")\n",
    "print(a)"
   ]
  },
  {
   "cell_type": "markdown",
   "metadata": {},
   "source": [
    "### Einen String in eine Kommazahl umwandeln\n",
    "**float()**-Befehl auf einen String: **float(string)**"
   ]
  },
  {
   "cell_type": "code",
   "execution_count": 7,
   "metadata": {
    "scrolled": true
   },
   "outputs": [
    {
     "name": "stdout",
     "output_type": "stream",
     "text": [
      "5.5\n"
     ]
    }
   ],
   "source": [
    "a = float(\"5.5\")\n",
    "print(a)"
   ]
  },
  {
   "cell_type": "markdown",
   "metadata": {},
   "source": [
    "### Eine Zahl in einen String umwandeln\n",
    "**str()**-Befehl auf eine Ganzzahl oder Kommazahl: **str(zahl)**"
   ]
  },
  {
   "cell_type": "code",
   "execution_count": 8,
   "metadata": {},
   "outputs": [
    {
     "name": "stdout",
     "output_type": "stream",
     "text": [
      "21\n"
     ]
    }
   ],
   "source": [
    "age = str(21)\n",
    "print(age)"
   ]
  },
  {
   "cell_type": "markdown",
   "metadata": {},
   "source": [
    "### Strings aus einer Liste zu einem String zusammenfügen\n",
    "**join()**-Befehl auf einen String: **string.join(liste)**"
   ]
  },
  {
   "cell_type": "code",
   "execution_count": 9,
   "metadata": {},
   "outputs": [
    {
     "name": "stdout",
     "output_type": "stream",
     "text": [
      "Alex, Bob, Cedric, Erika\n"
     ]
    }
   ],
   "source": [
    "students = [\"Alex\", \"Bob\", \"Cedric\", \"Erika\"]\n",
    "print(\", \".join(students))"
   ]
  },
  {
   "cell_type": "markdown",
   "metadata": {},
   "source": [
    "### Einen String in eine Liste aufspalten\n",
    "**split()**-Befehl auf einen String: **string.split()**"
   ]
  },
  {
   "cell_type": "code",
   "execution_count": 10,
   "metadata": {},
   "outputs": [
    {
     "name": "stdout",
     "output_type": "stream",
     "text": [
      "['Alex,', 'Bob,', 'Cedric,', 'Erika']\n",
      "['Alex', 'Bob', 'Cedric', 'Erika']\n"
     ]
    }
   ],
   "source": [
    "students = \"Alex, Bob, Cedric, Erika\"\n",
    "print(students.split()) # Kommata werden übernommen\n",
    "print(students.split(\", \")) # Kommata werden ausgelassen"
   ]
  },
  {
   "cell_type": "markdown",
   "metadata": {},
   "source": [
    "# 4. Operatoren\n",
    "### Vergleichoperatoren\n",
    "Verschiedene Operatoren zum Vergleichen von Variablen/Zahlen\n",
    "    **a == b** Werte sind gleich\n",
    "    **a != b** Werte sind ungleich\n",
    "    **a < b**  Wert b ist größer als Wert a\n",
    "    **a > b**  Wert a ist größer als Wert b\n",
    "    **a <= b** Wert b ist größer-gleich Wert a\n",
    "    **a >= b** Wert a ist größer-gleich Wert a\n",
    "Die Ausgabe über **print()** gibt die Booleans **True**(Wahr) oder **False**(Falsch) aus"
   ]
  },
  {
   "cell_type": "code",
   "execution_count": 13,
   "metadata": {},
   "outputs": [
    {
     "name": "stdout",
     "output_type": "stream",
     "text": [
      "False\n",
      "True\n",
      "True\n",
      "False\n",
      "True\n",
      "False\n"
     ]
    }
   ],
   "source": [
    "a = 5\n",
    "b = 6\n",
    "print(a == b)\n",
    "print( \"Hallo\" == \"World\") # auch Strings können verglichen werden\n",
    "print(a != b)\n",
    "print(a < b) \n",
    "print(a > b)\n",
    "print(a <= b)\n",
    "print(a >= b)"
   ]
  },
  {
   "cell_type": "markdown",
   "metadata": {},
   "source": [
    "### Gatter"
   ]
  },
  {
   "cell_type": "code",
   "execution_count": null,
   "metadata": {},
   "outputs": [],
   "source": [
    "# Für and müssen beide Variablen den gleichen Wert annehmen\n",
    "print(True and True)\n",
    "print(True and False)\n",
    "print(False and True)\n",
    "print(False and False)"
   ]
  },
  {
   "cell_type": "code",
   "execution_count": null,
   "metadata": {},
   "outputs": [],
   "source": [
    "# Für or muss eine der Variablen True annehmen\n",
    "print(True or True)\n",
    "print(True or False)\n",
    "print(False or True)\n",
    "print(False or False)"
   ]
  },
  {
   "cell_type": "markdown",
   "metadata": {},
   "source": [
    "### Der in-Operator\n",
    "mit **in**-Operatoren kann man überprüfen, ob ein Element in einem anderen Element enthalten ist\n",
    "\n",
    "der **in**-Operator mit Listen:"
   ]
  },
  {
   "cell_type": "code",
   "execution_count": 17,
   "metadata": {},
   "outputs": [
    {
     "name": "stdout",
     "output_type": "stream",
     "text": [
      "False\n",
      "True\n"
     ]
    }
   ],
   "source": [
    "students = [\"Alex\", \"Bob\", \"Cedric\", \"Erika\"]\n",
    "print(\"Monika\" in students) # Monika ist nicht in der Liste\n",
    "print(\"Bob\" in students) # Bob ist in der Liste"
   ]
  },
  {
   "cell_type": "markdown",
   "metadata": {},
   "source": [
    "der **in**-Operator mit Strings"
   ]
  },
  {
   "cell_type": "code",
   "execution_count": 18,
   "metadata": {},
   "outputs": [
    {
     "name": "stdout",
     "output_type": "stream",
     "text": [
      "True\n"
     ]
    }
   ],
   "source": [
    "satz =\"Ja dieser Text ist ein String!\"\n",
    "print(\"Ja\" in satz) # \"Ja\" ist in dem String enthalten "
   ]
  },
  {
   "cell_type": "markdown",
   "metadata": {},
   "source": [
    "### Der not-Operator\n",
    "Der **not**-Operator negiert das Ergebnis bzw. die Abfrage.\n",
    "\n",
    "Beachte, dass der **not**-Operator vor und nach der Variable kommen kann"
   ]
  },
  {
   "cell_type": "code",
   "execution_count": 22,
   "metadata": {},
   "outputs": [
    {
     "name": "stdout",
     "output_type": "stream",
     "text": [
      "False\n",
      "True\n"
     ]
    }
   ],
   "source": [
    "print( not 5 == 5) # Das Erbgenis von \"5 == 5\" ist wahr, \"not\" negiert das Ergebnis\n",
    "\n",
    "# Es können auch Listen abgefragt werden:\n",
    "names = [\"Andreas\", \"Bertold\"]\n",
    "print(\"Alex\" not in names)"
   ]
  },
  {
   "cell_type": "markdown",
   "metadata": {},
   "source": [
    "### Mehr Operatoren"
   ]
  },
  {
   "cell_type": "code",
   "execution_count": 26,
   "metadata": {},
   "outputs": [
    {
     "name": "stdout",
     "output_type": "stream",
     "text": [
      "5\n",
      "6\n",
      "5\n"
     ]
    }
   ],
   "source": [
    "i = 5\n",
    "print(i)\n",
    "i += 1  # Mit += kann die Variable mit den nachstehenden Wert addiert und in i gespeichert werden\n",
    "print(i)\n",
    "i -= 1  # Mit -= kann die Variable mit den nachstehenden Wert subtrahiert und in i gespeichert werden\n",
    "print(i)"
   ]
  },
  {
   "cell_type": "markdown",
   "metadata": {},
   "source": [
    "# 5. Schleifen"
   ]
  },
  {
   "cell_type": "markdown",
   "metadata": {},
   "source": [
    "### if-else-Struktur\n",
    "Ausführen bestimmter Abschnitte nur bei bestimmter Bedingung in **if-else-Struktur**.\n",
    "**if** fordert eine Bedingung, wird diese Bedingung erfüllt wird der eingrückte nachstehende Code ausgeführt.\n",
    "**else** wird ausgeführt, wenn die Bedingung nicht erfüllt wird\n",
    "\n",
    "Jeder Codeblock wird nur einmal ausgeführt. Beachte die Einrückung für den Codeabschnitt!\n",
    "\n",
    "if Bedingung:<br>\n",
    "&nbsp;&nbsp;&nbsp;&nbsp;&nbsp;&nbsp;Auszuführender_Code<br>\n",
    "else:<br>\n",
    "&nbsp;&nbsp;&nbsp;&nbsp;&nbsp;&nbsp;Sonst-Auszuführender_Code"
   ]
  },
  {
   "cell_type": "code",
   "execution_count": 15,
   "metadata": {},
   "outputs": [
    {
     "name": "stdout",
     "output_type": "stream",
     "text": [
      "x ist kleiner als 10\n",
      "Ich bin nicht mehr Eingerückt\n"
     ]
    }
   ],
   "source": [
    "x = 5\n",
    "if x < 10:\n",
    "    print(\"x ist kleiner als 10\")\n",
    "else:\n",
    "    print(\"x ist größer als 9\")\n",
    "print(\"Ich bin nicht mehr Eingerückt\")"
   ]
  },
  {
   "cell_type": "markdown",
   "metadata": {},
   "source": [
    "Müssen mehr als zwei **if-else** Fälle abgefragt werden, nutzt man **elif nächste_Bedinung:** als Kurzfassung."
   ]
  },
  {
   "cell_type": "code",
   "execution_count": 16,
   "metadata": {},
   "outputs": [
    {
     "name": "stdout",
     "output_type": "stream",
     "text": [
      "x ist 5\n"
     ]
    }
   ],
   "source": [
    "x = 5\n",
    "if x == 8:\n",
    "    print(\"x ist 8\")\n",
    "elif x==7:\n",
    "    print(\"x ist 7\")\n",
    "elif x==6:\n",
    "    print(\"x ist 6\")\n",
    "elif x==5:\n",
    "    print(\"x ist 5\")\n",
    "else:\n",
    "    print(\"x ist nicht zwischen 4 und 9\")"
   ]
  },
  {
   "cell_type": "markdown",
   "metadata": {},
   "source": [
    "### for-Schleife\n",
    "Die **for**-Schleife durchläuft eine anzugebende Sequenz"
   ]
  },
  {
   "cell_type": "code",
   "execution_count": 23,
   "metadata": {},
   "outputs": [
    {
     "name": "stdout",
     "output_type": "stream",
     "text": [
      "1\n",
      "2\n",
      "5\n",
      "Max\n",
      "Mustermann\n",
      "Michael\n"
     ]
    }
   ],
   "source": [
    "# Das Funktioniert sowohl mit Zahlen als auch Strings\n",
    "liste = [1, 2, 5]\n",
    "for i in liste:\n",
    "    print(i)\n",
    "    \n",
    "liste = [\"Max\", \"Mustermann\", \"Michael\"]\n",
    "for i in liste:\n",
    "    print(i)"
   ]
  },
  {
   "cell_type": "markdown",
   "metadata": {},
   "source": [
    "Das **range**-Objekt wird dazu genutzt, die Sequenzlänge vorzugeben. D.h. wie oft die Schleife durchlaufen werden soll."
   ]
  },
  {
   "cell_type": "code",
   "execution_count": 28,
   "metadata": {},
   "outputs": [
    {
     "name": "stdout",
     "output_type": "stream",
     "text": [
      "0\n",
      "1\n",
      "2\n",
      "3\n",
      "4\n"
     ]
    }
   ],
   "source": [
    "for i in range(0, 5): # von 0 bis 4 werden alle Zahlen ausgegeben\n",
    "    print(i)"
   ]
  },
  {
   "cell_type": "markdown",
   "metadata": {},
   "source": [
    "### while-Schleife\n",
    "**while**-Schleifen führen einen Code-Block mehrmals hintereinander aus, bis eine Abbruchbedingung erfüllt ist.\n",
    "Innerhalb einer while-Schleife muss ein Zustand verändert werden, damit das Programm die Schleife auch wieder verlassen kann!"
   ]
  },
  {
   "cell_type": "code",
   "execution_count": 29,
   "metadata": {
    "scrolled": true
   },
   "outputs": [
    {
     "name": "stdout",
     "output_type": "stream",
     "text": [
      "0\n",
      "1\n",
      "2\n"
     ]
    }
   ],
   "source": [
    "zähler = 0\n",
    "while zähler < 3:\n",
    "    print(zähler)\n",
    "    zähler += 1"
   ]
  },
  {
   "cell_type": "markdown",
   "metadata": {},
   "source": [
    "### Continue & Break\n",
    "Während eines Schleifendurchlaufs kann der man vorzeitig abbrechen und mit dem nächsten Schleifendurchlauf fortfahren (**continue**) oder die gesamte Schleife abbrechen (**break**)."
   ]
  },
  {
   "cell_type": "code",
   "execution_count": 30,
   "metadata": {},
   "outputs": [
    {
     "name": "stdout",
     "output_type": "stream",
     "text": [
      "0\n",
      "1\n",
      "3\n"
     ]
    }
   ],
   "source": [
    "for i in range(0, 4):\n",
    "    if i == 2:\n",
    "        continue  # anstatt print(2) auszuführen wird 2 übersprungen und mit dem nächsten Durchlauf fortgesetzt\n",
    "    print(i)"
   ]
  },
  {
   "cell_type": "code",
   "execution_count": 31,
   "metadata": {},
   "outputs": [
    {
     "name": "stdout",
     "output_type": "stream",
     "text": [
      "0\n",
      "1\n"
     ]
    }
   ],
   "source": [
    "for i in range(0, 4):\n",
    "    if i == 2:\n",
    "        break  # an dieser Stelle wird die Schleife abgebrochen und nicht weiter ausgeführt \n",
    "    print(i)"
   ]
  },
  {
   "cell_type": "markdown",
   "metadata": {},
   "source": [
    "# 6. Funktionen\n",
    "Funktionen sind t´zusammengefasste Codeblöcke. Mittels Funktionen vermeidet man mehrmals verwendete Codeblöcke. Eine Funktion kann merhmals im Programm aufgerufen werden, nachdem sie definiert wurde.<br>\n",
    "Beachte, der Funktion oder ihren Variablen keine Dopplungen aus deinem Code zu geben!\n",
    "\n",
    "### Funktionen definieren und Aufrufen\n",
    "\n",
    "def Funktionname():<br>\n",
    "&nbsp;&nbsp;&nbsp;&nbsp;&nbsp;&nbsp;Code"
   ]
  },
  {
   "cell_type": "code",
   "execution_count": null,
   "metadata": {},
   "outputs": [],
   "source": [
    "def print_more():    # Das Definieren der Funktion\n",
    "    print(\"hi\")\n",
    "    print(\"there\")\n",
    "    \n",
    "print_more()    # Das Aufrufen der Funktion mit ihrem Funktionsnamen()"
   ]
  },
  {
   "cell_type": "markdown",
   "metadata": {},
   "source": [
    "### Funktionen können auch mit einem oder mehreren Argumenten arbeiten\n",
    "def Funktionname(Argument):<br>\n",
    "&nbsp;&nbsp;&nbsp;&nbsp;&nbsp;&nbsp;Code"
   ]
  },
  {
   "cell_type": "code",
   "execution_count": 34,
   "metadata": {},
   "outputs": [
    {
     "name": "stdout",
     "output_type": "stream",
     "text": [
      "Hallo mein Name ist Hans\n"
     ]
    }
   ],
   "source": [
    "def print_name(name): # hier wird in Klammern ein Argument übergeben, ein Argument kann frei definiert werden\n",
    "    print(\"Hallo mein Name ist \" + name + \".\") #das Argument wird mit Argument-Namen übernommen und kann verwendet werden\n",
    "\n",
    "print_name(\"Hans\")"
   ]
  },
  {
   "cell_type": "code",
   "execution_count": 35,
   "metadata": {},
   "outputs": [
    {
     "name": "stdout",
     "output_type": "stream",
     "text": [
      "Hallo!\n",
      "Hallo!\n",
      "Hallo!\n"
     ]
    }
   ],
   "source": [
    "def print_more(name, count):\n",
    "    for i in range(0, count):\n",
    "        print(name)\n",
    "        \n",
    "print_more(\"Hallo!\", 3)"
   ]
  },
  {
   "cell_type": "markdown",
   "metadata": {},
   "source": [
    "### Ineinander verschachtelte Funktionen sind auch möglich"
   ]
  },
  {
   "cell_type": "code",
   "execution_count": 40,
   "metadata": {},
   "outputs": [
    {
     "name": "stdout",
     "output_type": "stream",
     "text": [
      "Hallo mein Name ist Hans.\n",
      "Ich bin 23 Jahre alt.\n"
     ]
    }
   ],
   "source": [
    "def print_name(name):\n",
    "    print(\"Hallo mein Name ist \" + name + \".\")\n",
    "def print_alter(alter):\n",
    "    print(\"Ich bin \" + str(alter) + \" Jahre alt.\")\n",
    "\n",
    "def NameUndAlter(name, alter):\n",
    "    print_name(name)\n",
    "    print_alter(alter)\n",
    "\n",
    "NameUndAlter(\"Hans\", 23)"
   ]
  },
  {
   "cell_type": "markdown",
   "metadata": {},
   "source": [
    "### Werte zurückgeben mit 'return'\n",
    "Mit dem Befehl **return** können Werte aus einer Funktion zurückgegeben werden. Funktionen mit **return** können wie Variablen behandelt werden."
   ]
  },
  {
   "cell_type": "code",
   "execution_count": null,
   "metadata": {},
   "outputs": [],
   "source": [
    "def return_element(name):\n",
    "    return name\n",
    "\n",
    "print(return_element(\"Hi\"))"
   ]
  },
  {
   "cell_type": "markdown",
   "metadata": {},
   "source": [
    "### Mehr Funktionen\n",
    "Neben selbst erstellten Funktionen bietet Python selbst vordefinierte Funktionen, diese findet man [hier](https://docs.python.org/3/library/functions.html)."
   ]
  },
  {
   "cell_type": "markdown",
   "metadata": {},
   "source": [
    "# 7. Dateien\n",
    "Python kann mehrere Dateitypen mit dem **with**-Konstruktor öffnen. Diese müssen danach nicht mit der **close()** -Methode geschlossen werden.\n",
    "\n",
    "**with** open(\"dateiname.dateiendung\", \"operator\") **as** dateiname_in_funktion: <br>\n",
    "&nbsp;&nbsp;&nbsp;&nbsp;&nbsp;&nbsp; Code"
   ]
  },
  {
   "cell_type": "markdown",
   "metadata": {},
   "source": [
    "Mögliche Dateien sind .txt, .csv (comma seperated values), ...\n",
    "\n",
    "### Textdateien schreiben\n",
    "zum schreiben einer Datei nutzen wir den Operator \"w\" (write)"
   ]
  },
  {
   "cell_type": "code",
   "execution_count": 45,
   "metadata": {},
   "outputs": [],
   "source": [
    "file = open(\"test.txt\", \"w\")\n",
    "file.write(\"Diese Datei wurde mit Phyton geschrieben.\")\n",
    "file.close()"
   ]
  },
  {
   "cell_type": "markdown",
   "metadata": {},
   "source": [
    "### Textdateien lesen und Inhalt ausgeben\n",
    "zum lesen einer Datei nutzen wir den Operator \"r\" (read)"
   ]
  },
  {
   "cell_type": "code",
   "execution_count": 47,
   "metadata": {},
   "outputs": [
    {
     "name": "stdout",
     "output_type": "stream",
     "text": [
      "Diese Datei wurde mit Phyton geschrieben.\n"
     ]
    }
   ],
   "source": [
    "file = open(\"test.txt\", \"r\")\n",
    "for line in file:  # Alle Zeilen nacheinander auslesen\n",
    "    print(line.strip()) #eine Zeile ohne Zeilenumbruch ausgeben"
   ]
  },
  {
   "cell_type": "markdown",
   "metadata": {},
   "source": [
    "# 99.Importieren mit %\n",
    "für zusätzliche Funktionen können Module in Python importiert werden"
   ]
  },
  {
   "cell_type": "code",
   "execution_count": 33,
   "metadata": {},
   "outputs": [
    {
     "data": {
      "image/png": "[encoded data removed]",
      "text/plain": [
       "<Figure size 432x288 with 1 Axes>"
      ]
     },
     "metadata": {
      "needs_background": "light"
     },
     "output_type": "display_data"
    }
   ],
   "source": [
    "%matplotlib inline \n",
    "import matplotlib.pyplot as plt # hier wird das Matplolib-Modul importiert und mit der Variable plt verknüpft\n",
    "plt.scatter([1, 2], [4, 3])  # plt. kann dann für das Modul benutzt werden\n",
    "plt.show()"
   ]
  },
  {
   "cell_type": "code",
   "execution_count": null,
   "metadata": {},
   "outputs": [],
   "source": []
  }
 ],
 "metadata": {
  "kernelspec": {
   "display_name": "Python 3",
   "language": "python",
   "name": "python3"
  },
  "language_info": {
   "codemirror_mode": {
    "name": "ipython",
    "version": 3
   },
   "file_extension": ".py",
   "mimetype": "text/x-python",
   "name": "python",
   "nbconvert_exporter": "python",
   "pygments_lexer": "ipython3",
   "version": "3.6.8"
  }
 },
 "nbformat": 4,
 "nbformat_minor": 2
}
